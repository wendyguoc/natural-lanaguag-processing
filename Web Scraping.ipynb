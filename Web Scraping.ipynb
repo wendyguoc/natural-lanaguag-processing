{
 "cells": [
  {
   "cell_type": "code",
   "execution_count": 2,
   "metadata": {},
   "outputs": [],
   "source": [
    "from bs4 import BeautifulSoup as soup\n",
    "from urllib.request import urlopen as uReq\n"
   ]
  },
  {
   "cell_type": "code",
   "execution_count": 3,
   "metadata": {},
   "outputs": [],
   "source": [
    "my_url='https://www.newegg.com/Video-Cards-Video-Devices/Category/ID-38?Tpk=graphics%20card'\n",
    "uClient=uReq(my_url)\n",
    "page_html=uClient.read()\n",
    "uClient.close()"
   ]
  },
  {
   "cell_type": "code",
   "execution_count": 6,
   "metadata": {},
   "outputs": [
    {
     "data": {
      "text/plain": [
       "<span class=\"noCSS\">Skip to:</span>"
      ]
     },
     "execution_count": 6,
     "metadata": {},
     "output_type": "execute_result"
    }
   ],
   "source": [
    "page_soup=soup(page_html, \"html.parser\")\n",
    "page_soup.body.span"
   ]
  },
  {
   "cell_type": "code",
   "execution_count": 11,
   "metadata": {},
   "outputs": [
    {
     "data": {
      "text/plain": [
       "12"
      ]
     },
     "execution_count": 11,
     "metadata": {},
     "output_type": "execute_result"
    }
   ],
   "source": [
    "#grab each product\n",
    "containers=page_soup.findAll(\"div\", {\"class\": \"item-container\"})\n",
    "len(containers)"
   ]
  },
  {
   "cell_type": "code",
   "execution_count": 53,
   "metadata": {},
   "outputs": [],
   "source": [
    "container=containers[0]"
   ]
  },
  {
   "cell_type": "code",
   "execution_count": 72,
   "metadata": {
    "scrolled": true
   },
   "outputs": [
    {
     "name": "stdout",
     "output_type": "stream",
     "text": [
      "MSI GeForce RTX 2070 SUPER DirectX 12 RTX 2070 Super GAMING X 8GB 256-Bit GDDR6 PCI Express 3.0 x16 HDCP Ready SLI Support Video Card\n",
      "Free Shipping\n",
      "GIGABYTE AORUS Radeon RX 5700 XT 8G Graphics Card, PCIe 4.0, 8GB 256-Bit GDDR6, GV-R57XTAORUS-8GD Video Card\n",
      "Free Shipping\n",
      "ASUS ROG STRIX GeForce RTX 2060 DirectX 12 ROG-STRIX-RTX2060-O6G-GAMING 6GB 192-Bit GDDR6 PCI Express 3.0 HDCP Ready Video Card\n",
      "Free Shipping\n",
      "EVGA GeForce RTX 2080 Ti DirectX 12 11G-P4-2281-KR 11GB 352-Bit GDDR6 PCI Express 3.0 HDCP Ready SLI Support BLACK EDITION GAMING Video Card, Dual HDB Fans & RGB LED\n",
      "$6.99 Shipping\n",
      "XFX Radeon RX 5600 XT DirectX 12 RX-56XT6DFD6 6GB 192-Bit GDDR6 PCI Express 4.0 Video Card\n",
      "$3.99 Shipping\n",
      "MSI GeForce RTX 2070 DirectX 12 RTX 2070 TRI FROZR 8GB 256-Bit GDDR6 PCI Express 3.0 x16 HDCP Ready Video Card\n",
      "Free Shipping\n",
      "GIGABYTE Radeon RX 580 GAMING 8G (rev. 2.0) Graphics Card, PCIe 3.0, 8GB 256-Bit GDDR5, GV-RX580GAMING-8GD REV2.0 Video Card\n",
      "Free Shipping\n",
      "XFX Radeon RX 5600 XT DirectX 12 RX-56XT6TBD8 6GB 192-Bit GDDR6 PCI Express 4.0 Video Card\n",
      "Free Shipping\n",
      "SAPPHIRE PULSE Radeon RX 5700 XT 100416P8GL 8GB 256-Bit GDDR6 PCI Express 4.0 x16 ATX Video Card\n",
      "$3.99 Shipping\n",
      "EVGA GeForce RTX 2070 SUPER BLACK GAMING, 08G-P4-3071-KR, 8GB GDDR6\n",
      "$4.99 Shipping\n",
      "ASRock Phantom Gaming X Radeon RX Vega 56 DirectX 12 RX VEGA 56 8G 8GB 2048-Bit HBM2 PCI Express 3.0 x16 HDCP Ready Video Card\n",
      "Free Shipping\n",
      "EVGA GeForce RTX 2080 Ti XC HYBRID GAMING, 11G-P4-2384-KR, 11GB GDDR6, HYBRID, RGB LED Logo, Metal Backplate\n",
      "Free Shipping\n"
     ]
    }
   ],
   "source": [
    "filename=(\"graphicscard.csv\")\n",
    "f=open(filename,\"w\")\n",
    "headers=\"product, shipping\\n\"\n",
    "f.write(headers)\n",
    "\n",
    "for container in containers:\n",
    "    product=container.a.img[\"alt\"]\n",
    "    #container.findAll(\"a\", {\"class\": \"item-brand\"})\n",
    "    shipping_con=container.findAll(\"li\", {\"class\": \"price-ship\"})\n",
    "    shipping=shipping_con[0].text.strip()\n",
    "    print(product)\n",
    "    print(shipping)\n",
    "    \n",
    "    f.write(product.replace(\",\", \" \") + ',' + shipping + \"\\n\" )\n",
    "f.close()\n"
   ]
  },
  {
   "cell_type": "code",
   "execution_count": null,
   "metadata": {},
   "outputs": [],
   "source": []
  },
  {
   "cell_type": "code",
   "execution_count": 61,
   "metadata": {},
   "outputs": [
    {
     "data": {
      "text/plain": [
       "'MSI GeForce RTX 2070 SUPER DirectX 12 RTX 2070 Super GAMING X 8GB 256-Bit GDDR6 PCI Express 3.0 x16 HDCP Ready SLI Support Video Card'"
      ]
     },
     "execution_count": 61,
     "metadata": {},
     "output_type": "execute_result"
    }
   ],
   "source": [
    "container.a.img[\"title\"]"
   ]
  },
  {
   "cell_type": "code",
   "execution_count": 67,
   "metadata": {},
   "outputs": [],
   "source": [
    "brand=container.findAll(\"a\", {\"class\": \"item-brand\"})\n",
    "brand[0].title"
   ]
  },
  {
   "cell_type": "code",
   "execution_count": 70,
   "metadata": {},
   "outputs": [
    {
     "data": {
      "text/plain": [
       "'Free Shipping'"
      ]
     },
     "execution_count": 70,
     "metadata": {},
     "output_type": "execute_result"
    }
   ],
   "source": [
    "shipping=container.findAll(\"li\", {\"class\": \"price-ship\"})\n",
    "shipping[0].text.strip()"
   ]
  }
 ],
 "metadata": {
  "kernelspec": {
   "display_name": "Python 3",
   "language": "python",
   "name": "python3"
  },
  "language_info": {
   "codemirror_mode": {
    "name": "ipython",
    "version": 3
   },
   "file_extension": ".py",
   "mimetype": "text/x-python",
   "name": "python",
   "nbconvert_exporter": "python",
   "pygments_lexer": "ipython3",
   "version": "3.7.4"
  }
 },
 "nbformat": 4,
 "nbformat_minor": 2
}
